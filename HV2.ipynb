{
  "nbformat": 4,
  "nbformat_minor": 0,
  "metadata": {
    "colab": {
      "name": "HV2.ipynb",
      "provenance": [],
      "collapsed_sections": [],
      "authorship_tag": "ABX9TyOy1GhYc3afgTgNiDA2X5+4",
      "include_colab_link": true
    },
    "kernelspec": {
      "name": "python3",
      "display_name": "Python 3"
    },
    "language_info": {
      "name": "python"
    }
  },
  "cells": [
    {
      "cell_type": "markdown",
      "metadata": {
        "id": "view-in-github",
        "colab_type": "text"
      },
      "source": [
        "<a href=\"https://colab.research.google.com/github/SeferKul/QuickDataVisualization/blob/main/HV2.ipynb\" target=\"_parent\"><img src=\"https://colab.research.google.com/assets/colab-badge.svg\" alt=\"Open In Colab\"/></a>"
      ]
    },
    {
      "cell_type": "markdown",
      "metadata": {
        "id": "gcJO2gRir_ev"
      },
      "source": [
        "##**A Quick Practice with  \"Total Medal Numbers\" and \"Human Development Index**.\n",
        "\n",
        "\n",
        "---\n",
        "\n",
        "\n",
        "\n",
        "\n"
      ]
    },
    {
      "cell_type": "markdown",
      "metadata": {
        "id": "8EpadI76mIoZ"
      },
      "source": [
        "**Importing libraries**"
      ]
    },
    {
      "cell_type": "code",
      "metadata": {
        "id": "pOLXyk2AEB8J"
      },
      "source": [
        "import numpy as np\n",
        "import pandas as pd\n",
        "import matplotlib as plt\n",
        "import seaborn as sns"
      ],
      "execution_count": 85,
      "outputs": []
    },
    {
      "cell_type": "markdown",
      "metadata": {
        "id": "jWV2eCcomgVV"
      },
      "source": [
        "**Reading excel files**"
      ]
    },
    {
      "cell_type": "code",
      "metadata": {
        "id": "A0C-WJmqEu_s"
      },
      "source": [
        "altindf = pd.read_excel(\"altin.xlsx\") \n",
        "gumusdf = pd.read_excel(\"gumus.xlsx\") \n",
        "bronzdf = pd.read_excel(\"bronz.xlsx\") \n",
        "insandf = pd.read_excel(\"insani_gelisim_indeksi.xlsx\") \n"
      ],
      "execution_count": 76,
      "outputs": []
    },
    {
      "cell_type": "markdown",
      "metadata": {
        "id": "gKdZ-SXnmjmI"
      },
      "source": [
        "**Seperating from \"NOC\" column**"
      ]
    },
    {
      "cell_type": "code",
      "metadata": {
        "colab": {
          "base_uri": "https://localhost:8080/",
          "height": 419
        },
        "id": "-4DllzfzE23y",
        "outputId": "cae89572-6233-43ac-9ff5-a69b1bc1934c"
      },
      "source": [
        "newaltindf=altindf.loc[:,[\"Country\",\"Total\"]]\n",
        "newgumusdf=gumusdf.loc[:,[\"Country\",\"Total\"]]\n",
        "newbronzdf=bronzdf.loc[:,[\"Country\",\"Total\"]]\n",
        "newgumusdf"
      ],
      "execution_count": 46,
      "outputs": [
        {
          "output_type": "execute_result",
          "data": {
            "text/html": [
              "<div>\n",
              "<style scoped>\n",
              "    .dataframe tbody tr th:only-of-type {\n",
              "        vertical-align: middle;\n",
              "    }\n",
              "\n",
              "    .dataframe tbody tr th {\n",
              "        vertical-align: top;\n",
              "    }\n",
              "\n",
              "    .dataframe thead th {\n",
              "        text-align: right;\n",
              "    }\n",
              "</style>\n",
              "<table border=\"1\" class=\"dataframe\">\n",
              "  <thead>\n",
              "    <tr style=\"text-align: right;\">\n",
              "      <th></th>\n",
              "      <th>Country</th>\n",
              "      <th>Total</th>\n",
              "    </tr>\n",
              "  </thead>\n",
              "  <tbody>\n",
              "    <tr>\n",
              "      <th>0</th>\n",
              "      <td>United States</td>\n",
              "      <td>1195.0</td>\n",
              "    </tr>\n",
              "    <tr>\n",
              "      <th>1</th>\n",
              "      <td>Soviet Union</td>\n",
              "      <td>627.0</td>\n",
              "    </tr>\n",
              "    <tr>\n",
              "      <th>2</th>\n",
              "      <td>United Kingdom</td>\n",
              "      <td>591.0</td>\n",
              "    </tr>\n",
              "    <tr>\n",
              "      <th>3</th>\n",
              "      <td>France</td>\n",
              "      <td>461.0</td>\n",
              "    </tr>\n",
              "    <tr>\n",
              "      <th>4</th>\n",
              "      <td>Germany</td>\n",
              "      <td>350.0</td>\n",
              "    </tr>\n",
              "    <tr>\n",
              "      <th>...</th>\n",
              "      <td>...</td>\n",
              "      <td>...</td>\n",
              "    </tr>\n",
              "    <tr>\n",
              "      <th>131</th>\n",
              "      <td>Senegal</td>\n",
              "      <td>1.0</td>\n",
              "    </tr>\n",
              "    <tr>\n",
              "      <th>132</th>\n",
              "      <td>Sudan</td>\n",
              "      <td>1.0</td>\n",
              "    </tr>\n",
              "    <tr>\n",
              "      <th>133</th>\n",
              "      <td>Tonga</td>\n",
              "      <td>1.0</td>\n",
              "    </tr>\n",
              "    <tr>\n",
              "      <th>134</th>\n",
              "      <td>Burundi</td>\n",
              "      <td>NaN</td>\n",
              "    </tr>\n",
              "    <tr>\n",
              "      <th>135</th>\n",
              "      <td>United Arab Emirates</td>\n",
              "      <td>NaN</td>\n",
              "    </tr>\n",
              "  </tbody>\n",
              "</table>\n",
              "<p>136 rows × 2 columns</p>\n",
              "</div>"
            ],
            "text/plain": [
              "                  Country   Total\n",
              "0           United States  1195.0\n",
              "1            Soviet Union   627.0\n",
              "2          United Kingdom   591.0\n",
              "3                  France   461.0\n",
              "4                 Germany   350.0\n",
              "..                    ...     ...\n",
              "131               Senegal     1.0\n",
              "132                 Sudan     1.0\n",
              "133                 Tonga     1.0\n",
              "134               Burundi     NaN\n",
              "135  United Arab Emirates     NaN\n",
              "\n",
              "[136 rows x 2 columns]"
            ]
          },
          "metadata": {},
          "execution_count": 46
        }
      ]
    },
    {
      "cell_type": "markdown",
      "metadata": {
        "id": "qQcl2CRpmyHU"
      },
      "source": [
        "**Merging madals dataframe according to *outer*. Because we are looking for at least one categorical madal.**"
      ]
    },
    {
      "cell_type": "code",
      "metadata": {
        "colab": {
          "base_uri": "https://localhost:8080/",
          "height": 419
        },
        "id": "vNafcHqkUNUE",
        "outputId": "8d421c1e-656c-45a5-f2cb-28ae0bcec12e"
      },
      "source": [
        "mergeAltGumdf=newaltindf.merge(newgumusdf,how=\"outer\",on=\"Country\",suffixes=(\"_Altin\",\"_Gumus\"))\n",
        "mergeAlldf=mergeAltGumdf.merge(newbronzdf,how=\"outer\",on= \"Country\")\n",
        "mergeAlldf"
      ],
      "execution_count": 57,
      "outputs": [
        {
          "output_type": "execute_result",
          "data": {
            "text/html": [
              "<div>\n",
              "<style scoped>\n",
              "    .dataframe tbody tr th:only-of-type {\n",
              "        vertical-align: middle;\n",
              "    }\n",
              "\n",
              "    .dataframe tbody tr th {\n",
              "        vertical-align: top;\n",
              "    }\n",
              "\n",
              "    .dataframe thead th {\n",
              "        text-align: right;\n",
              "    }\n",
              "</style>\n",
              "<table border=\"1\" class=\"dataframe\">\n",
              "  <thead>\n",
              "    <tr style=\"text-align: right;\">\n",
              "      <th></th>\n",
              "      <th>Country</th>\n",
              "      <th>Total_Altin</th>\n",
              "      <th>Total_Gumus</th>\n",
              "      <th>Total</th>\n",
              "    </tr>\n",
              "  </thead>\n",
              "  <tbody>\n",
              "    <tr>\n",
              "      <th>0</th>\n",
              "      <td>United States</td>\n",
              "      <td>2088.0</td>\n",
              "      <td>1195.0</td>\n",
              "      <td>1052.0</td>\n",
              "    </tr>\n",
              "    <tr>\n",
              "      <th>1</th>\n",
              "      <td>Soviet Union</td>\n",
              "      <td>838.0</td>\n",
              "      <td>627.0</td>\n",
              "      <td>584.0</td>\n",
              "    </tr>\n",
              "    <tr>\n",
              "      <th>2</th>\n",
              "      <td>United Kingdom</td>\n",
              "      <td>498.0</td>\n",
              "      <td>591.0</td>\n",
              "      <td>505.0</td>\n",
              "    </tr>\n",
              "    <tr>\n",
              "      <th>3</th>\n",
              "      <td>France</td>\n",
              "      <td>378.0</td>\n",
              "      <td>461.0</td>\n",
              "      <td>475.0</td>\n",
              "    </tr>\n",
              "    <tr>\n",
              "      <th>4</th>\n",
              "      <td>Germany</td>\n",
              "      <td>407.0</td>\n",
              "      <td>350.0</td>\n",
              "      <td>454.0</td>\n",
              "    </tr>\n",
              "    <tr>\n",
              "      <th>...</th>\n",
              "      <td>...</td>\n",
              "      <td>...</td>\n",
              "      <td>...</td>\n",
              "      <td>...</td>\n",
              "    </tr>\n",
              "    <tr>\n",
              "      <th>131</th>\n",
              "      <td>Senegal</td>\n",
              "      <td>NaN</td>\n",
              "      <td>1.0</td>\n",
              "      <td>NaN</td>\n",
              "    </tr>\n",
              "    <tr>\n",
              "      <th>132</th>\n",
              "      <td>Sudan</td>\n",
              "      <td>NaN</td>\n",
              "      <td>1.0</td>\n",
              "      <td>NaN</td>\n",
              "    </tr>\n",
              "    <tr>\n",
              "      <th>133</th>\n",
              "      <td>Tonga</td>\n",
              "      <td>NaN</td>\n",
              "      <td>1.0</td>\n",
              "      <td>NaN</td>\n",
              "    </tr>\n",
              "    <tr>\n",
              "      <th>134</th>\n",
              "      <td>Burundi</td>\n",
              "      <td>1.0</td>\n",
              "      <td>NaN</td>\n",
              "      <td>NaN</td>\n",
              "    </tr>\n",
              "    <tr>\n",
              "      <th>135</th>\n",
              "      <td>United Arab Emirates</td>\n",
              "      <td>1.0</td>\n",
              "      <td>NaN</td>\n",
              "      <td>NaN</td>\n",
              "    </tr>\n",
              "  </tbody>\n",
              "</table>\n",
              "<p>136 rows × 4 columns</p>\n",
              "</div>"
            ],
            "text/plain": [
              "                  Country  Total_Altin  Total_Gumus   Total\n",
              "0           United States       2088.0       1195.0  1052.0\n",
              "1            Soviet Union        838.0        627.0   584.0\n",
              "2          United Kingdom        498.0        591.0   505.0\n",
              "3                  France        378.0        461.0   475.0\n",
              "4                 Germany        407.0        350.0   454.0\n",
              "..                    ...          ...          ...     ...\n",
              "131               Senegal          NaN          1.0     NaN\n",
              "132                 Sudan          NaN          1.0     NaN\n",
              "133                 Tonga          NaN          1.0     NaN\n",
              "134               Burundi          1.0          NaN     NaN\n",
              "135  United Arab Emirates          1.0          NaN     NaN\n",
              "\n",
              "[136 rows x 4 columns]"
            ]
          },
          "metadata": {},
          "execution_count": 57
        }
      ]
    },
    {
      "cell_type": "markdown",
      "metadata": {
        "id": "9DrlSMJPn3Lq"
      },
      "source": [
        "**Renaming columns according to the instructions.**"
      ]
    },
    {
      "cell_type": "code",
      "metadata": {
        "colab": {
          "base_uri": "https://localhost:8080/"
        },
        "id": "MjoQpbBNWG4w",
        "outputId": "0886183b-1c18-47fe-b729-ab9714ab399a"
      },
      "source": [
        "df_madalya=mergeAlldf.rename({\"Country\":\"Ulke\",\"Total_Altin\":\"Altin\",\"Total_Gumus\":\"Gumus\",\"Total\":\"Bronz\"},axis=\"columns\")\n",
        "df_madalya.columns"
      ],
      "execution_count": 69,
      "outputs": [
        {
          "output_type": "execute_result",
          "data": {
            "text/plain": [
              "Index(['Ulke', 'Altin', 'Gumus', 'Bronz'], dtype='object')"
            ]
          },
          "metadata": {},
          "execution_count": 69
        }
      ]
    },
    {
      "cell_type": "markdown",
      "metadata": {
        "id": "yiLNoBP7nqap"
      },
      "source": [
        "**Replacing \"None\" values with \"0\" by using np.nan and df.replace\\**"
      ]
    },
    {
      "cell_type": "code",
      "metadata": {
        "id": "5plCy1XeXH6c"
      },
      "source": [
        "df_madalya.replace(np.nan,0,inplace=True)"
      ],
      "execution_count": 70,
      "outputs": []
    },
    {
      "cell_type": "markdown",
      "metadata": {
        "id": "T94EGCxmoAsd"
      },
      "source": [
        "**Calculating all categorical medals and creating a new columns to contain calculated values.**"
      ]
    },
    {
      "cell_type": "code",
      "metadata": {
        "id": "zEQ_Lio4Xvhy"
      },
      "source": [
        "df_madalya[\"Toplam\"]=df_madalya[\"Altin\"]+df_madalya[\"Gumus\"]+df_madalya[\"Bronz\"]"
      ],
      "execution_count": 72,
      "outputs": []
    },
    {
      "cell_type": "markdown",
      "metadata": {
        "id": "U9fQ-kBcoasH"
      },
      "source": [
        "**Renaming insandf columns and merging them with df_ulkeler. Some values are lost because the country names don't match each other.**"
      ]
    },
    {
      "cell_type": "code",
      "metadata": {
        "colab": {
          "base_uri": "https://localhost:8080/",
          "height": 419
        },
        "id": "beYKdzJSYN4V",
        "outputId": "b121f4ee-00dd-4344-9477-c88ee3d3b097"
      },
      "source": [
        "insandf=insandf.rename(columns={\"Country\":\"Ulke\",\"2008_Human Development Index\":\"2008_Insani gelisim indeksi\"})\n",
        "df_ulkeler=df_madalya.merge(insandf,how=\"inner\",on=\"Ulke\")\n",
        "df_ulkeler"
      ],
      "execution_count": 84,
      "outputs": [
        {
          "output_type": "execute_result",
          "data": {
            "text/html": [
              "<div>\n",
              "<style scoped>\n",
              "    .dataframe tbody tr th:only-of-type {\n",
              "        vertical-align: middle;\n",
              "    }\n",
              "\n",
              "    .dataframe tbody tr th {\n",
              "        vertical-align: top;\n",
              "    }\n",
              "\n",
              "    .dataframe thead th {\n",
              "        text-align: right;\n",
              "    }\n",
              "</style>\n",
              "<table border=\"1\" class=\"dataframe\">\n",
              "  <thead>\n",
              "    <tr style=\"text-align: right;\">\n",
              "      <th></th>\n",
              "      <th>Ulke</th>\n",
              "      <th>Altin</th>\n",
              "      <th>Gumus</th>\n",
              "      <th>Bronz</th>\n",
              "      <th>Toplam</th>\n",
              "      <th>2008_Insani gelisim indeksi</th>\n",
              "    </tr>\n",
              "  </thead>\n",
              "  <tbody>\n",
              "    <tr>\n",
              "      <th>0</th>\n",
              "      <td>United States</td>\n",
              "      <td>2088.0</td>\n",
              "      <td>1195.0</td>\n",
              "      <td>1052.0</td>\n",
              "      <td>4335.0</td>\n",
              "      <td>0.911</td>\n",
              "    </tr>\n",
              "    <tr>\n",
              "      <th>1</th>\n",
              "      <td>United Kingdom</td>\n",
              "      <td>498.0</td>\n",
              "      <td>591.0</td>\n",
              "      <td>505.0</td>\n",
              "      <td>1594.0</td>\n",
              "      <td>0.903</td>\n",
              "    </tr>\n",
              "    <tr>\n",
              "      <th>2</th>\n",
              "      <td>France</td>\n",
              "      <td>378.0</td>\n",
              "      <td>461.0</td>\n",
              "      <td>475.0</td>\n",
              "      <td>1314.0</td>\n",
              "      <td>0.875</td>\n",
              "    </tr>\n",
              "    <tr>\n",
              "      <th>3</th>\n",
              "      <td>Germany</td>\n",
              "      <td>407.0</td>\n",
              "      <td>350.0</td>\n",
              "      <td>454.0</td>\n",
              "      <td>1211.0</td>\n",
              "      <td>0.924</td>\n",
              "    </tr>\n",
              "    <tr>\n",
              "      <th>4</th>\n",
              "      <td>Australia</td>\n",
              "      <td>293.0</td>\n",
              "      <td>369.0</td>\n",
              "      <td>413.0</td>\n",
              "      <td>1075.0</td>\n",
              "      <td>0.926</td>\n",
              "    </tr>\n",
              "    <tr>\n",
              "      <th>...</th>\n",
              "      <td>...</td>\n",
              "      <td>...</td>\n",
              "      <td>...</td>\n",
              "      <td>...</td>\n",
              "      <td>...</td>\n",
              "      <td>...</td>\n",
              "    </tr>\n",
              "    <tr>\n",
              "      <th>111</th>\n",
              "      <td>Senegal</td>\n",
              "      <td>0.0</td>\n",
              "      <td>1.0</td>\n",
              "      <td>0.0</td>\n",
              "      <td>1.0</td>\n",
              "      <td>0.457</td>\n",
              "    </tr>\n",
              "    <tr>\n",
              "      <th>112</th>\n",
              "      <td>Sudan</td>\n",
              "      <td>0.0</td>\n",
              "      <td>1.0</td>\n",
              "      <td>0.0</td>\n",
              "      <td>1.0</td>\n",
              "      <td>0.461</td>\n",
              "    </tr>\n",
              "    <tr>\n",
              "      <th>113</th>\n",
              "      <td>Tonga</td>\n",
              "      <td>0.0</td>\n",
              "      <td>1.0</td>\n",
              "      <td>0.0</td>\n",
              "      <td>1.0</td>\n",
              "      <td>0.688</td>\n",
              "    </tr>\n",
              "    <tr>\n",
              "      <th>114</th>\n",
              "      <td>Burundi</td>\n",
              "      <td>1.0</td>\n",
              "      <td>0.0</td>\n",
              "      <td>0.0</td>\n",
              "      <td>1.0</td>\n",
              "      <td>0.384</td>\n",
              "    </tr>\n",
              "    <tr>\n",
              "      <th>115</th>\n",
              "      <td>United Arab Emirates</td>\n",
              "      <td>1.0</td>\n",
              "      <td>0.0</td>\n",
              "      <td>0.0</td>\n",
              "      <td>1.0</td>\n",
              "      <td>0.821</td>\n",
              "    </tr>\n",
              "  </tbody>\n",
              "</table>\n",
              "<p>116 rows × 6 columns</p>\n",
              "</div>"
            ],
            "text/plain": [
              "                     Ulke   Altin  ...  Toplam  2008_Insani gelisim indeksi\n",
              "0           United States  2088.0  ...  4335.0                        0.911\n",
              "1          United Kingdom   498.0  ...  1594.0                        0.903\n",
              "2                  France   378.0  ...  1314.0                        0.875\n",
              "3                 Germany   407.0  ...  1211.0                        0.924\n",
              "4               Australia   293.0  ...  1075.0                        0.926\n",
              "..                    ...     ...  ...     ...                          ...\n",
              "111               Senegal     0.0  ...     1.0                        0.457\n",
              "112                 Sudan     0.0  ...     1.0                        0.461\n",
              "113                 Tonga     0.0  ...     1.0                        0.688\n",
              "114               Burundi     1.0  ...     1.0                        0.384\n",
              "115  United Arab Emirates     1.0  ...     1.0                        0.821\n",
              "\n",
              "[116 rows x 6 columns]"
            ]
          },
          "metadata": {},
          "execution_count": 84
        }
      ]
    },
    {
      "cell_type": "markdown",
      "metadata": {
        "id": "j_ewbgwfpIXU"
      },
      "source": [
        "\n",
        "\n",
        "*   **Set a figure size for better review.**\n",
        "*   **According to the scatter plot, we can assume there is a correlation between total medals and the human development index.**\n",
        "\n"
      ]
    },
    {
      "cell_type": "code",
      "metadata": {
        "colab": {
          "base_uri": "https://localhost:8080/",
          "height": 534
        },
        "id": "oFxz7xFnZItJ",
        "outputId": "05841c95-84fe-4c43-fd13-f688f6a9e574"
      },
      "source": [
        "sns.set(rc={'figure.figsize':(11.7,8.27)})\n",
        "\n",
        "sns.scatterplot(data=df_ulkeler, \n",
        "                x=\"2008_Insani gelisim indeksi\",\n",
        "                y=\"Toplam\",\n",
        "                size=\"Toplam\"\n",
        "                )"
      ],
      "execution_count": 95,
      "outputs": [
        {
          "output_type": "execute_result",
          "data": {
            "text/plain": [
              "<matplotlib.axes._subplots.AxesSubplot at 0x7f338090ee50>"
            ]
          },
          "metadata": {},
          "execution_count": 95
        },
        {
          "output_type": "display_data",
          "data": {
            "image/png": "[encoded data removed]",
            "text/plain": [
              "<Figure size 842.4x595.44 with 1 Axes>"
            ]
          },
          "metadata": {}
        }
      ]
    },
    {
      "cell_type": "markdown",
      "metadata": {
        "id": "BqdFSS2eqSgV"
      },
      "source": [
        "**Filter countries according to Human Development Index.**"
      ]
    },
    {
      "cell_type": "code",
      "metadata": {
        "colab": {
          "base_uri": "https://localhost:8080/",
          "height": 452
        },
        "id": "z3hdLEokfFP5",
        "outputId": "dc7dfc42-499e-442e-b2b1-68aab3b3078c"
      },
      "source": [
        "df_filtered=df_ulkeler.loc[(df_ulkeler[\"2008_Insani gelisim indeksi\"]>=0.9)]\n",
        "df_filtered"
      ],
      "execution_count": 112,
      "outputs": [
        {
          "output_type": "execute_result",
          "data": {
            "text/html": [
              "<div>\n",
              "<style scoped>\n",
              "    .dataframe tbody tr th:only-of-type {\n",
              "        vertical-align: middle;\n",
              "    }\n",
              "\n",
              "    .dataframe tbody tr th {\n",
              "        vertical-align: top;\n",
              "    }\n",
              "\n",
              "    .dataframe thead th {\n",
              "        text-align: right;\n",
              "    }\n",
              "</style>\n",
              "<table border=\"1\" class=\"dataframe\">\n",
              "  <thead>\n",
              "    <tr style=\"text-align: right;\">\n",
              "      <th></th>\n",
              "      <th>Ulke</th>\n",
              "      <th>Altin</th>\n",
              "      <th>Gumus</th>\n",
              "      <th>Bronz</th>\n",
              "      <th>Toplam</th>\n",
              "      <th>2008_Insani gelisim indeksi</th>\n",
              "    </tr>\n",
              "  </thead>\n",
              "  <tbody>\n",
              "    <tr>\n",
              "      <th>0</th>\n",
              "      <td>United States</td>\n",
              "      <td>2088.0</td>\n",
              "      <td>1195.0</td>\n",
              "      <td>1052.0</td>\n",
              "      <td>4335.0</td>\n",
              "      <td>0.911</td>\n",
              "    </tr>\n",
              "    <tr>\n",
              "      <th>1</th>\n",
              "      <td>United Kingdom</td>\n",
              "      <td>498.0</td>\n",
              "      <td>591.0</td>\n",
              "      <td>505.0</td>\n",
              "      <td>1594.0</td>\n",
              "      <td>0.903</td>\n",
              "    </tr>\n",
              "    <tr>\n",
              "      <th>3</th>\n",
              "      <td>Germany</td>\n",
              "      <td>407.0</td>\n",
              "      <td>350.0</td>\n",
              "      <td>454.0</td>\n",
              "      <td>1211.0</td>\n",
              "      <td>0.924</td>\n",
              "    </tr>\n",
              "    <tr>\n",
              "      <th>4</th>\n",
              "      <td>Australia</td>\n",
              "      <td>293.0</td>\n",
              "      <td>369.0</td>\n",
              "      <td>413.0</td>\n",
              "      <td>1075.0</td>\n",
              "      <td>0.926</td>\n",
              "    </tr>\n",
              "    <tr>\n",
              "      <th>7</th>\n",
              "      <td>Sweden</td>\n",
              "      <td>347.0</td>\n",
              "      <td>349.0</td>\n",
              "      <td>325.0</td>\n",
              "      <td>1021.0</td>\n",
              "      <td>0.907</td>\n",
              "    </tr>\n",
              "    <tr>\n",
              "      <th>8</th>\n",
              "      <td>Netherlands</td>\n",
              "      <td>212.0</td>\n",
              "      <td>250.0</td>\n",
              "      <td>320.0</td>\n",
              "      <td>782.0</td>\n",
              "      <td>0.913</td>\n",
              "    </tr>\n",
              "    <tr>\n",
              "      <th>14</th>\n",
              "      <td>Finland</td>\n",
              "      <td>124.0</td>\n",
              "      <td>118.0</td>\n",
              "      <td>209.0</td>\n",
              "      <td>451.0</td>\n",
              "      <td>0.917</td>\n",
              "    </tr>\n",
              "    <tr>\n",
              "      <th>17</th>\n",
              "      <td>Denmark</td>\n",
              "      <td>147.0</td>\n",
              "      <td>192.0</td>\n",
              "      <td>152.0</td>\n",
              "      <td>491.0</td>\n",
              "      <td>0.917</td>\n",
              "    </tr>\n",
              "    <tr>\n",
              "      <th>18</th>\n",
              "      <td>Belgium</td>\n",
              "      <td>91.0</td>\n",
              "      <td>167.0</td>\n",
              "      <td>150.0</td>\n",
              "      <td>408.0</td>\n",
              "      <td>0.906</td>\n",
              "    </tr>\n",
              "    <tr>\n",
              "      <th>19</th>\n",
              "      <td>Norway</td>\n",
              "      <td>194.0</td>\n",
              "      <td>199.0</td>\n",
              "      <td>144.0</td>\n",
              "      <td>537.0</td>\n",
              "      <td>0.937</td>\n",
              "    </tr>\n",
              "    <tr>\n",
              "      <th>20</th>\n",
              "      <td>Switzerland</td>\n",
              "      <td>73.0</td>\n",
              "      <td>165.0</td>\n",
              "      <td>138.0</td>\n",
              "      <td>376.0</td>\n",
              "      <td>0.925</td>\n",
              "    </tr>\n",
              "    <tr>\n",
              "      <th>27</th>\n",
              "      <td>New Zealand</td>\n",
              "      <td>76.0</td>\n",
              "      <td>27.0</td>\n",
              "      <td>61.0</td>\n",
              "      <td>164.0</td>\n",
              "      <td>0.902</td>\n",
              "    </tr>\n",
              "    <tr>\n",
              "      <th>60</th>\n",
              "      <td>Ireland</td>\n",
              "      <td>8.0</td>\n",
              "      <td>8.0</td>\n",
              "      <td>8.0</td>\n",
              "      <td>24.0</td>\n",
              "      <td>0.911</td>\n",
              "    </tr>\n",
              "  </tbody>\n",
              "</table>\n",
              "</div>"
            ],
            "text/plain": [
              "              Ulke   Altin   Gumus   Bronz  Toplam  2008_Insani gelisim indeksi\n",
              "0    United States  2088.0  1195.0  1052.0  4335.0                        0.911\n",
              "1   United Kingdom   498.0   591.0   505.0  1594.0                        0.903\n",
              "3          Germany   407.0   350.0   454.0  1211.0                        0.924\n",
              "4        Australia   293.0   369.0   413.0  1075.0                        0.926\n",
              "7           Sweden   347.0   349.0   325.0  1021.0                        0.907\n",
              "8      Netherlands   212.0   250.0   320.0   782.0                        0.913\n",
              "14         Finland   124.0   118.0   209.0   451.0                        0.917\n",
              "17         Denmark   147.0   192.0   152.0   491.0                        0.917\n",
              "18         Belgium    91.0   167.0   150.0   408.0                        0.906\n",
              "19          Norway   194.0   199.0   144.0   537.0                        0.937\n",
              "20     Switzerland    73.0   165.0   138.0   376.0                        0.925\n",
              "27     New Zealand    76.0    27.0    61.0   164.0                        0.902\n",
              "60         Ireland     8.0     8.0     8.0    24.0                        0.911"
            ]
          },
          "metadata": {},
          "execution_count": 112
        }
      ]
    },
    {
      "cell_type": "markdown",
      "metadata": {
        "id": "2NjIKtwPrJ5a"
      },
      "source": [
        "**As the chart shows, in most cases, as the number of gold medals increases, so does the total number of medals.**"
      ]
    },
    {
      "cell_type": "code",
      "metadata": {
        "colab": {
          "base_uri": "https://localhost:8080/",
          "height": 534
        },
        "id": "ef3TWLb7g0PY",
        "outputId": "f51758c7-b7d7-4843-ec76-477b2809edc7"
      },
      "source": [
        "sns.barplot(data=df_filtered, \n",
        "            x=\"Altin\",\n",
        "            y=\"Toplam\",\n",
        "            )"
      ],
      "execution_count": 123,
      "outputs": [
        {
          "output_type": "execute_result",
          "data": {
            "text/plain": [
              "<matplotlib.axes._subplots.AxesSubplot at 0x7f337fd97350>"
            ]
          },
          "metadata": {},
          "execution_count": 123
        },
        {
          "output_type": "display_data",
          "data": {
            "image/png": "[encoded data removed]",
            "text/plain": [
              "<Figure size 842.4x595.44 with 1 Axes>"
            ]
          },
          "metadata": {}
        }
      ]
    }
  ]
}